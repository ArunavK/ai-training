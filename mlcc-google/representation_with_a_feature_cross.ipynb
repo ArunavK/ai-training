{
 "cells": [
  {
   "cell_type": "code",
   "execution_count": 1,
   "metadata": {},
   "outputs": [],
   "source": [
    "from jupyterthemes import jtplot\n",
    "jtplot.style(theme=\"onedork\", figsize=(14, 5))"
   ]
  },
  {
   "cell_type": "code",
   "execution_count": null,
   "metadata": {
    "cellView": "form",
    "colab": {},
    "colab_type": "code",
    "id": "wDlWLbfkJtvu",
    "jupyter": {
     "source_hidden": true
    },
    "tags": []
   },
   "outputs": [],
   "source": [
    "#@title Copyright 2020 Google LLC. Double-click for license information.\n",
    "# Licensed under the Apache License, Version 2.0 (the \"License\");\n",
    "# you may not use this file except in compliance with the License.\n",
    "# You may obtain a copy of the License at\n",
    "#\n",
    "# https://www.apache.org/licenses/LICENSE-2.0\n",
    "#\n",
    "# Unless required by applicable law or agreed to in writing, software\n",
    "# distributed under the License is distributed on an \"AS IS\" BASIS,\n",
    "# WITHOUT WARRANTIES OR CONDITIONS OF ANY KIND, either express or implied.\n",
    "# See the License for the specific language governing permissions and\n",
    "# limitations under the License."
   ]
  },
  {
   "cell_type": "markdown",
   "metadata": {
    "colab_type": "text",
    "id": "TL5y5fY9Jy_x"
   },
   "source": [
    "# Representation with a Feature Cross\n",
    "\n",
    "In this exercise, you'll experiment with different ways to represent features."
   ]
  },
  {
   "cell_type": "markdown",
   "metadata": {
    "colab_type": "text",
    "id": "RXWoPIezkzgI"
   },
   "source": [
    "## Learning Objectives:\n",
    "\n",
    "After doing this Colab, you'll know how to:\n",
    "\n",
    "  * Use [`tf.feature_column`](https://www.tensorflow.org/api_docs/python/tf/feature_column) methods to represent features in different ways.\n",
    "  * Represent features as [bins](https://developers.google.com/machine-learning/glossary/#bucketing). \n",
    "  * Cross bins to create a [feature cross](https://developers.google.com/machine-learning/glossary/#feature_cross). "
   ]
  },
  {
   "cell_type": "markdown",
   "metadata": {
    "colab_type": "text",
    "id": "lH_g3Hsfkzzb"
   },
   "source": [
    "## The Dataset\n",
    "  \n",
    "Like several of the previous Colabs, this exercise uses the [California Housing Dataset](https://developers.google.com/machine-learning/crash-course/california-housing-data-description)."
   ]
  },
  {
   "cell_type": "markdown",
   "metadata": {
    "colab_type": "text",
    "id": "5iuw6-JOGf7I"
   },
   "source": [
    "## Call the import statements\n",
    "\n",
    "The following code imports the necessary code to run the code in the rest of this Colaboratory."
   ]
  },
  {
   "cell_type": "code",
   "execution_count": 2,
   "metadata": {
    "cellView": "form",
    "colab": {},
    "colab_type": "code",
    "id": "9n9_cTveKmse"
   },
   "outputs": [
    {
     "name": "stdout",
     "output_type": "stream",
     "text": [
      "Imported the modules.\n"
     ]
    }
   ],
   "source": [
    "#@title Load the imports\n",
    "\n",
    "# from __future__ import absolute_import, division, print_function, unicode_literals\n",
    "\n",
    "import numpy as np\n",
    "import pandas as pd\n",
    "import tensorflow as tf\n",
    "from tensorflow import feature_column\n",
    "from tensorflow.keras import layers\n",
    "\n",
    "from matplotlib import pyplot as plt\n",
    "\n",
    "# The following lines adjust the granularity of reporting.\n",
    "pd.options.display.max_rows = 10\n",
    "pd.options.display.float_format = \"{:.1f}\".format\n",
    "\n",
    "tf.keras.backend.set_floatx('float32')\n",
    "\n",
    "print(\"Imported the modules.\")"
   ]
  },
  {
   "cell_type": "markdown",
   "metadata": {
    "colab_type": "text",
    "id": "X_TaJhU4KcuY"
   },
   "source": [
    "## Load, scale, and shuffle the examples\n",
    "\n",
    "The following code cell loads the separate .csv files and creates the following two pandas DataFrames:\n",
    "\n",
    "* `train_df`, which contains the training set\n",
    "* `test_df`, which contains the test set\n",
    "\n",
    "The code cell then scales the `median_house_value` to a more human-friendly range and then suffles the examples."
   ]
  },
  {
   "cell_type": "code",
   "execution_count": 3,
   "metadata": {
    "colab": {},
    "colab_type": "code",
    "id": "JZlvdpyYKx7V"
   },
   "outputs": [],
   "source": [
    "# Load the dataset\n",
    "train_df = pd.read_csv(\"https://download.mlcc.google.com/mledu-datasets/california_housing_train.csv\")\n",
    "test_df = pd.read_csv(\"https://download.mlcc.google.com/mledu-datasets/california_housing_test.csv\")\n",
    "\n",
    "# Scale the labels\n",
    "scale_factor = 1000.0\n",
    "# Scale the training set's label.\n",
    "train_df[\"median_house_value\"] /= scale_factor \n",
    "\n",
    "# Scale the test set's label\n",
    "test_df[\"median_house_value\"] /= scale_factor\n",
    "\n",
    "# Shuffle the examples\n",
    "train_df = train_df.reindex(np.random.permutation(train_df.index))"
   ]
  },
  {
   "cell_type": "markdown",
   "metadata": {
    "colab_type": "text",
    "id": "8kir8UTUXSV8"
   },
   "source": [
    "## Represent latitude and longitude as floating-point values\n",
    "\n",
    "Previous Colabs trained on only a single feature or a single synthetic feature. By contrast, this exercise trains on two features. Furthermore, this Colab introduces **feature columns**, which provide a sophisticated way to represent features.  \n",
    "\n",
    "You create feature columns as possible:\n",
    "\n",
    "  * Call a [`tf.feature_column`](https://www.tensorflow.org/api_docs/python/tf/feature_column) method to represent a single feature, single feature cross, or single synthetic feature in the desired way.  For example, to represent a certain feature as floating-point values, call [`tf.feature_column.numeric_column`](https://www.tensorflow.org/api_docs/python/tf/feature_column/numeric_column). To represent a certain feature as a series of buckets or bins, call [`tf.feature_column.bucketized_column`](https://www.tensorflow.org/api_docs/python/tf/feature_column/bucketized_column).\n",
    "  * Assemble the created representations into a Python list. \n",
    "\n",
    "A neighborhood's location is typically the most important feature in determining a house's value. The California Housing dataset provides two features, `latitude` and `longitude` that identify each neighborhood's location. \n",
    "\n",
    "The following code cell calls [`tf.feature_column.numeric_column`](https://www.tensorflow.org/api_docs/python/tf/feature_column/numeric_column) twice, first to represent `latitude` as floating-point value and a second time to represent `longitude` as floating-point values. \n",
    "\n",
    "This code cell specifies the features that you'll ultimately train the model on and how each of those features will be represented. The transformations (collected in `fp_feature_layer`) don't actually get applied until you pass a DataFrame to it, which will happen when we train the model. \n"
   ]
  },
  {
   "cell_type": "code",
   "execution_count": 4,
   "metadata": {
    "colab": {},
    "colab_type": "code",
    "id": "3tmmZIDw4JEC"
   },
   "outputs": [],
   "source": [
    "# Create an empty list that will eventually hold all feature columns.\n",
    "feature_columns = []\n",
    "\n",
    "# Create a numerical feature column to represent latitude.\n",
    "latitude = tf.feature_column.numeric_column(\"latitude\")\n",
    "feature_columns.append(latitude)\n",
    "\n",
    "# Create a numerical feature column to represent longitude.\n",
    "longitude = tf.feature_column.numeric_column(\"longitude\")\n",
    "feature_columns.append(longitude)\n",
    "\n",
    "# Convert the list of feature columns into a layer that will ultimately become\n",
    "# part of the model. Understanding layers is not important right now.\n",
    "fp_feature_layer = layers.DenseFeatures(feature_columns)"
   ]
  },
  {
   "cell_type": "markdown",
   "metadata": {
    "colab_type": "text",
    "id": "Q2x8sHKnAy3Q"
   },
   "source": [
    "When used, the layer processes the raw inputs, according to the transformations described by the feature columns, and packs the result into a numeric array.  (The model will train on this numeric array.) "
   ]
  },
  {
   "cell_type": "markdown",
   "metadata": {
    "colab_type": "text",
    "id": "3014ezH3C7jT"
   },
   "source": [
    "## Define functions that create and train a model, and a plotting function\n",
    "\n",
    "The following code defines three functions:\n",
    "\n",
    "  * `create_model`, which tells TensorFlow to build a linear regression model and to use the `feature_layer_as_fp` as the representation of the model's features.\n",
    "  * `train_model`, which will ultimately train the model from training set examples.\n",
    "  * `plot_the_loss_curve`, which generates a loss curve."
   ]
  },
  {
   "cell_type": "code",
   "execution_count": 5,
   "metadata": {
    "cellView": "form",
    "colab": {},
    "colab_type": "code",
    "id": "pedD5GhlDC-y"
   },
   "outputs": [
    {
     "name": "stdout",
     "output_type": "stream",
     "text": [
      "Defined the create_model, train_model, and plot_the_loss_curve functions.\n"
     ]
    }
   ],
   "source": [
    "#@title Define functions to create and train a model, and a plotting function\n",
    "def create_model(my_learning_rate, feature_layer):\n",
    "  \"\"\"Create and compile a simple linear regression model.\"\"\"\n",
    "  # Most simple tf.keras models are sequential.\n",
    "  model = tf.keras.models.Sequential()\n",
    "\n",
    "  # Add the layer containing the feature columns to the model.\n",
    "  model.add(feature_layer)\n",
    "\n",
    "  # Add one linear layer to the model to yield a simple linear regressor.\n",
    "  model.add(tf.keras.layers.Dense(units=1, input_shape=(1,)))\n",
    "\n",
    "  # Construct the layers into a model that TensorFlow can execute.\n",
    "  model.compile(optimizer=tf.keras.optimizers.RMSprop(learning_rate=my_learning_rate),\n",
    "                loss=\"mean_squared_error\",\n",
    "                metrics=[tf.keras.metrics.RootMeanSquaredError()])\n",
    "\n",
    "  return model           \n",
    "\n",
    "\n",
    "def train_model(model, dataset, epochs, batch_size, label_name):\n",
    "  \"\"\"Feed a dataset into the model in order to train it.\"\"\"\n",
    "\n",
    "  features = {name:np.array(value) for name, value in dataset.items()}\n",
    "  label = np.array(features.pop(label_name))\n",
    "  history = model.fit(x=features, y=label, batch_size=batch_size,\n",
    "                      epochs=epochs, shuffle=True)\n",
    "\n",
    "  # The list of epochs is stored separately from the rest of history.\n",
    "  epochs = history.epoch\n",
    "  \n",
    "  # Isolate the mean absolute error for each epoch.\n",
    "  hist = pd.DataFrame(history.history)\n",
    "  rmse = hist[\"root_mean_squared_error\"]\n",
    "\n",
    "  return epochs, rmse   \n",
    "\n",
    "\n",
    "def plot_the_loss_curve(epochs, rmse):\n",
    "  \"\"\"Plot a curve of loss vs. epoch.\"\"\"\n",
    "\n",
    "  plt.figure()\n",
    "  plt.xlabel(\"Epoch\")\n",
    "  plt.ylabel(\"Root Mean Squared Error\")\n",
    "\n",
    "  plt.plot(epochs, rmse, label=\"Loss\")\n",
    "  plt.legend()\n",
    "  plt.ylim([rmse.min()*0.94, rmse.max()* 1.05])\n",
    "  plt.show()  \n",
    "\n",
    "print(\"Defined the create_model, train_model, and plot_the_loss_curve functions.\")"
   ]
  },
  {
   "cell_type": "markdown",
   "metadata": {
    "colab_type": "text",
    "id": "D-IXYVfvM4gD"
   },
   "source": [
    "## Train the model with floating-point representations\n",
    "\n",
    "The following code cell calls the functions you just created to train, plot, and evaluate a model."
   ]
  },
  {
   "cell_type": "code",
   "execution_count": 6,
   "metadata": {
    "cellView": "both",
    "colab": {},
    "colab_type": "code",
    "id": "nj3v5EKQFY8s"
   },
   "outputs": [
    {
     "name": "stdout",
     "output_type": "stream",
     "text": [
      "Epoch 1/30\n",
      "WARNING:tensorflow:Layers in a Sequential model should only have a single input tensor, but we receive a <class 'dict'> input: {'longitude': <tf.Tensor 'ExpandDims_3:0' shape=(100, 1) dtype=float32>, 'latitude': <tf.Tensor 'ExpandDims_2:0' shape=(100, 1) dtype=float32>, 'housing_median_age': <tf.Tensor 'ExpandDims_1:0' shape=(100, 1) dtype=float32>, 'total_rooms': <tf.Tensor 'ExpandDims_7:0' shape=(100, 1) dtype=float32>, 'total_bedrooms': <tf.Tensor 'ExpandDims_6:0' shape=(100, 1) dtype=float32>, 'population': <tf.Tensor 'ExpandDims_5:0' shape=(100, 1) dtype=float32>, 'households': <tf.Tensor 'ExpandDims:0' shape=(100, 1) dtype=float32>, 'median_income': <tf.Tensor 'ExpandDims_4:0' shape=(100, 1) dtype=float32>}\n",
      "Consider rewriting this model with the Functional API.\n",
      "WARNING:tensorflow:Layers in a Sequential model should only have a single input tensor, but we receive a <class 'dict'> input: {'longitude': <tf.Tensor 'ExpandDims_3:0' shape=(100, 1) dtype=float32>, 'latitude': <tf.Tensor 'ExpandDims_2:0' shape=(100, 1) dtype=float32>, 'housing_median_age': <tf.Tensor 'ExpandDims_1:0' shape=(100, 1) dtype=float32>, 'total_rooms': <tf.Tensor 'ExpandDims_7:0' shape=(100, 1) dtype=float32>, 'total_bedrooms': <tf.Tensor 'ExpandDims_6:0' shape=(100, 1) dtype=float32>, 'population': <tf.Tensor 'ExpandDims_5:0' shape=(100, 1) dtype=float32>, 'households': <tf.Tensor 'ExpandDims:0' shape=(100, 1) dtype=float32>, 'median_income': <tf.Tensor 'ExpandDims_4:0' shape=(100, 1) dtype=float32>}\n",
      "Consider rewriting this model with the Functional API.\n",
      "170/170 [==============================] - 4s 1ms/step - loss: 48967.7785 - root_mean_squared_error: 213.1454\n",
      "Epoch 2/30\n",
      "170/170 [==============================] - 0s 1ms/step - loss: 13577.8688 - root_mean_squared_error: 116.5125\n",
      "Epoch 3/30\n",
      "170/170 [==============================] - 0s 1ms/step - loss: 13212.2934 - root_mean_squared_error: 114.9330\n",
      "Epoch 4/30\n",
      "170/170 [==============================] - 0s 1ms/step - loss: 13494.9081 - root_mean_squared_error: 116.1651\n",
      "Epoch 5/30\n",
      "170/170 [==============================] - 0s 1ms/step - loss: 13662.1923 - root_mean_squared_error: 116.8796\n",
      "Epoch 6/30\n",
      "170/170 [==============================] - 0s 1ms/step - loss: 13080.7060 - root_mean_squared_error: 114.3563\n",
      "Epoch 7/30\n",
      "170/170 [==============================] - 0s 1ms/step - loss: 13298.3145 - root_mean_squared_error: 115.3080\n",
      "Epoch 8/30\n",
      "170/170 [==============================] - 0s 1ms/step - loss: 13312.5290 - root_mean_squared_error: 115.3703\n",
      "Epoch 9/30\n",
      "170/170 [==============================] - 0s 1ms/step - loss: 13093.2639 - root_mean_squared_error: 114.4116\n",
      "Epoch 10/30\n",
      "170/170 [==============================] - 0s 1ms/step - loss: 13153.6313 - root_mean_squared_error: 114.6867\n",
      "Epoch 11/30\n",
      "170/170 [==============================] - 0s 1ms/step - loss: 12949.4399 - root_mean_squared_error: 113.7914\n",
      "Epoch 12/30\n",
      "170/170 [==============================] - 0s 1ms/step - loss: 13460.4567 - root_mean_squared_error: 116.0098\n",
      "Epoch 13/30\n",
      "170/170 [==============================] - 0s 1ms/step - loss: 13309.8032 - root_mean_squared_error: 115.3636\n",
      "Epoch 14/30\n",
      "170/170 [==============================] - 0s 1ms/step - loss: 13071.6555 - root_mean_squared_error: 114.3288\n",
      "Epoch 15/30\n",
      "170/170 [==============================] - 0s 1ms/step - loss: 12903.1461 - root_mean_squared_error: 113.5825\n",
      "Epoch 16/30\n",
      "170/170 [==============================] - 0s 1ms/step - loss: 12975.5904 - root_mean_squared_error: 113.9045\n",
      "Epoch 17/30\n",
      "170/170 [==============================] - 0s 1ms/step - loss: 13140.3450 - root_mean_squared_error: 114.6255\n",
      "Epoch 18/30\n",
      "170/170 [==============================] - 0s 1ms/step - loss: 13404.0652 - root_mean_squared_error: 115.7643\n",
      "Epoch 19/30\n",
      "170/170 [==============================] - 0s 1ms/step - loss: 13043.3169 - root_mean_squared_error: 114.2046\n",
      "Epoch 20/30\n",
      "170/170 [==============================] - 0s 1ms/step - loss: 12829.7842 - root_mean_squared_error: 113.2589\n",
      "Epoch 21/30\n",
      "170/170 [==============================] - 0s 1ms/step - loss: 12946.8356 - root_mean_squared_error: 113.7780\n",
      "Epoch 22/30\n",
      "170/170 [==============================] - 0s 1ms/step - loss: 12973.4305 - root_mean_squared_error: 113.8938\n",
      "Epoch 23/30\n",
      "170/170 [==============================] - 0s 1ms/step - loss: 13020.4727 - root_mean_squared_error: 114.1027\n",
      "Epoch 24/30\n",
      "170/170 [==============================] - 0s 1ms/step - loss: 12923.4633 - root_mean_squared_error: 113.6781\n",
      "Epoch 25/30\n",
      "170/170 [==============================] - 0s 1ms/step - loss: 13132.5606 - root_mean_squared_error: 114.5908\n",
      "Epoch 26/30\n",
      "170/170 [==============================] - 0s 1ms/step - loss: 12766.6098 - root_mean_squared_error: 112.9832\n",
      "Epoch 27/30\n",
      "170/170 [==============================] - 0s 1ms/step - loss: 12964.8454 - root_mean_squared_error: 113.8580\n",
      "Epoch 28/30\n",
      "170/170 [==============================] - 0s 1ms/step - loss: 12933.9153 - root_mean_squared_error: 113.7139\n",
      "Epoch 29/30\n",
      "170/170 [==============================] - 0s 1ms/step - loss: 12627.9517 - root_mean_squared_error: 112.3555\n",
      "Epoch 30/30\n",
      "170/170 [==============================] - 0s 1ms/step - loss: 13061.5998 - root_mean_squared_error: 114.2813\n"
     ]
    },
    {
     "data": {
      "image/png": "[encoded data removed]",
      "text/plain": [
       "<Figure size 1120x400 with 1 Axes>"
      ]
     },
     "metadata": {},
     "output_type": "display_data"
    },
    {
     "name": "stdout",
     "output_type": "stream",
     "text": [
      "\n",
      ": Evaluate the new model against the test set:\n",
      "WARNING:tensorflow:Layers in a Sequential model should only have a single input tensor, but we receive a <class 'dict'> input: {'longitude': <tf.Tensor 'ExpandDims_3:0' shape=(100, 1) dtype=float32>, 'latitude': <tf.Tensor 'ExpandDims_2:0' shape=(100, 1) dtype=float32>, 'housing_median_age': <tf.Tensor 'ExpandDims_1:0' shape=(100, 1) dtype=float32>, 'total_rooms': <tf.Tensor 'ExpandDims_7:0' shape=(100, 1) dtype=float32>, 'total_bedrooms': <tf.Tensor 'ExpandDims_6:0' shape=(100, 1) dtype=float32>, 'population': <tf.Tensor 'ExpandDims_5:0' shape=(100, 1) dtype=float32>, 'households': <tf.Tensor 'ExpandDims:0' shape=(100, 1) dtype=float32>, 'median_income': <tf.Tensor 'ExpandDims_4:0' shape=(100, 1) dtype=float32>}\n",
      "Consider rewriting this model with the Functional API.\n",
      "30/30 [==============================] - 0s 1ms/step - loss: 12190.5361 - root_mean_squared_error: 110.4108\n"
     ]
    },
    {
     "data": {
      "text/plain": [
       "[12190.5361328125, 110.41075897216797]"
      ]
     },
     "execution_count": 6,
     "metadata": {},
     "output_type": "execute_result"
    }
   ],
   "source": [
    "# The following variables are the hyperparameters.\n",
    "learning_rate = 0.05\n",
    "epochs = 30\n",
    "batch_size = 100\n",
    "label_name = 'median_house_value'\n",
    "\n",
    "# Create and compile the model's topography.\n",
    "my_model = create_model(learning_rate, fp_feature_layer)\n",
    "\n",
    "# Train the model on the training set.\n",
    "epochs, rmse = train_model(my_model, train_df, epochs, batch_size, label_name)\n",
    "\n",
    "plot_the_loss_curve(epochs, rmse)\n",
    "\n",
    "print(\"\\n: Evaluate the new model against the test set:\")\n",
    "test_features = {name:np.array(value) for name, value in test_df.items()}\n",
    "test_label = np.array(test_features.pop(label_name))\n",
    "my_model.evaluate(x=test_features, y=test_label, batch_size=batch_size)"
   ]
  },
  {
   "cell_type": "markdown",
   "metadata": {
    "colab_type": "text",
    "id": "dbyWNS6T2fIT"
   },
   "source": [
    "## Task 1: Why aren't floating-point values a good way to represent latitude and longitude?\n",
    "\n",
    "Are floating-point values a good way to represent `latitude` and `longitude`? "
   ]
  },
  {
   "cell_type": "code",
   "execution_count": null,
   "metadata": {
    "cellView": "form",
    "colab": {},
    "colab_type": "code",
    "id": "VJLDCu5M2hXX",
    "jupyter": {
     "source_hidden": true
    },
    "tags": []
   },
   "outputs": [],
   "source": [
    "#@title Double-click to view an answer to Task 1.\n",
    "\n",
    "# No. Representing latitude and longitude as \n",
    "# floating-point values does not have much \n",
    "# predictive power. For example, neighborhoods at \n",
    "# latitude 35 are not 36/35 more valuable \n",
    "# (or 35/36 less valuable) than houses at \n",
    "# latitude 36.\n",
    "\n",
    "# Representing `latitude` and `longitude` as \n",
    "# floating-point values provides almost no \n",
    "# predictive power. We're only using the raw values \n",
    "# to establish a baseline for future experiments \n",
    "# with better representations."
   ]
  },
  {
   "cell_type": "markdown",
   "metadata": {
    "colab_type": "text",
    "id": "Na8TPoPYx-0k"
   },
   "source": [
    "## Represent latitude and longitude in buckets\n",
    "\n",
    "The following code cell represents latitude and longitude in buckets (bins). Each bin represents all the neighborhoods within a single degree. For example,\n",
    "neighborhoods at latitude 35.4 and 35.8 are in the same bucket, but neighborhoods in latitude 35.4 and 36.2 are in different buckets. \n",
    "\n",
    "The model will learn a separate weight for each bucket. For example, the model will learn one weight for all the neighborhoods in the \"35\" bin\", a different weight for neighborhoods in the \"36\" bin, and so on. This representation will create approximately 20 buckets:\n",
    " \n",
    "  * 10 buckets for `latitude`. \n",
    "  * 10 buckets for `longitude`. "
   ]
  },
  {
   "cell_type": "code",
   "execution_count": 7,
   "metadata": {
    "colab": {},
    "colab_type": "code",
    "id": "WLTUFiaUyIpx"
   },
   "outputs": [],
   "source": [
    "resolution_in_degrees = 1.0 \n",
    "\n",
    "# Create a new empty list that will eventually hold the generated feature column.\n",
    "feature_columns = []\n",
    "\n",
    "# Create a bucket feature column for latitude.\n",
    "latitude_as_a_numeric_column = tf.feature_column.numeric_column(\"latitude\")\n",
    "latitude_boundaries = list(np.arange(int(min(train_df['latitude'])), \n",
    "                                     int(max(train_df['latitude'])), \n",
    "                                     resolution_in_degrees))\n",
    "latitude = tf.feature_column.bucketized_column(latitude_as_a_numeric_column, \n",
    "                                               latitude_boundaries)\n",
    "feature_columns.append(latitude)\n",
    "\n",
    "# Create a bucket feature column for longitude.\n",
    "longitude_as_a_numeric_column = tf.feature_column.numeric_column(\"longitude\")\n",
    "longitude_boundaries = list(np.arange(int(min(train_df['longitude'])), \n",
    "                                      int(max(train_df['longitude'])), \n",
    "                                      resolution_in_degrees))\n",
    "longitude = tf.feature_column.bucketized_column(longitude_as_a_numeric_column, \n",
    "                                                longitude_boundaries)\n",
    "feature_columns.append(longitude)\n",
    "\n",
    "# Convert the list of feature columns into a layer that will ultimately become\n",
    "# part of the model. Understanding layers is not important right now.\n",
    "buckets_feature_layer = layers.DenseFeatures(feature_columns)"
   ]
  },
  {
   "cell_type": "markdown",
   "metadata": {
    "colab_type": "text",
    "id": "aZsFzoPQ4pFm"
   },
   "source": [
    "## Train the model with bucket representations\n",
    "\n",
    "Run the following code cell to train the model with bucket representations rather than floating-point representations:"
   ]
  },
  {
   "cell_type": "code",
   "execution_count": 8,
   "metadata": {
    "colab": {},
    "colab_type": "code",
    "id": "UnDrghxBzLvD"
   },
   "outputs": [
    {
     "name": "stdout",
     "output_type": "stream",
     "text": [
      "Epoch 1/35\n",
      "WARNING:tensorflow:Layers in a Sequential model should only have a single input tensor, but we receive a <class 'dict'> input: {'longitude': <tf.Tensor 'ExpandDims_3:0' shape=(100, 1) dtype=float32>, 'latitude': <tf.Tensor 'ExpandDims_2:0' shape=(100, 1) dtype=float32>, 'housing_median_age': <tf.Tensor 'ExpandDims_1:0' shape=(100, 1) dtype=float32>, 'total_rooms': <tf.Tensor 'ExpandDims_7:0' shape=(100, 1) dtype=float32>, 'total_bedrooms': <tf.Tensor 'ExpandDims_6:0' shape=(100, 1) dtype=float32>, 'population': <tf.Tensor 'ExpandDims_5:0' shape=(100, 1) dtype=float32>, 'households': <tf.Tensor 'ExpandDims:0' shape=(100, 1) dtype=float32>, 'median_income': <tf.Tensor 'ExpandDims_4:0' shape=(100, 1) dtype=float32>}\n",
      "Consider rewriting this model with the Functional API.\n",
      "WARNING:tensorflow:Layers in a Sequential model should only have a single input tensor, but we receive a <class 'dict'> input: {'longitude': <tf.Tensor 'ExpandDims_3:0' shape=(100, 1) dtype=float32>, 'latitude': <tf.Tensor 'ExpandDims_2:0' shape=(100, 1) dtype=float32>, 'housing_median_age': <tf.Tensor 'ExpandDims_1:0' shape=(100, 1) dtype=float32>, 'total_rooms': <tf.Tensor 'ExpandDims_7:0' shape=(100, 1) dtype=float32>, 'total_bedrooms': <tf.Tensor 'ExpandDims_6:0' shape=(100, 1) dtype=float32>, 'population': <tf.Tensor 'ExpandDims_5:0' shape=(100, 1) dtype=float32>, 'households': <tf.Tensor 'ExpandDims:0' shape=(100, 1) dtype=float32>, 'median_income': <tf.Tensor 'ExpandDims_4:0' shape=(100, 1) dtype=float32>}\n",
      "Consider rewriting this model with the Functional API.\n",
      "170/170 [==============================] - 1s 2ms/step - loss: 53864.0429 - root_mean_squared_error: 232.0660\n",
      "Epoch 2/35\n",
      "170/170 [==============================] - 0s 1ms/step - loss: 46282.1519 - root_mean_squared_error: 215.1198\n",
      "Epoch 3/35\n",
      "170/170 [==============================] - 0s 1ms/step - loss: 39309.7831 - root_mean_squared_error: 198.2604\n",
      "Epoch 4/35\n",
      "170/170 [==============================] - 0s 1ms/step - loss: 33877.7666 - root_mean_squared_error: 184.0291\n",
      "Epoch 5/35\n",
      "170/170 [==============================] - 0s 1ms/step - loss: 28549.9910 - root_mean_squared_error: 168.9535\n",
      "Epoch 6/35\n",
      "170/170 [==============================] - 0s 2ms/step - loss: 23718.3898 - root_mean_squared_error: 153.9988\n",
      "Epoch 7/35\n",
      "170/170 [==============================] - 0s 1ms/step - loss: 20639.1274 - root_mean_squared_error: 143.6427\n",
      "Epoch 8/35\n",
      "170/170 [==============================] - 0s 2ms/step - loss: 17035.4874 - root_mean_squared_error: 130.5014\n",
      "Epoch 9/35\n",
      "170/170 [==============================] - 0s 1ms/step - loss: 14806.4360 - root_mean_squared_error: 121.6740\n",
      "Epoch 10/35\n",
      "170/170 [==============================] - 0s 2ms/step - loss: 13232.4208 - root_mean_squared_error: 115.0056\n",
      "Epoch 11/35\n",
      "170/170 [==============================] - 0s 2ms/step - loss: 12307.3044 - root_mean_squared_error: 110.9284\n",
      "Epoch 12/35\n",
      "170/170 [==============================] - 0s 2ms/step - loss: 11496.0458 - root_mean_squared_error: 107.2111\n",
      "Epoch 13/35\n",
      "170/170 [==============================] - 0s 2ms/step - loss: 10967.1314 - root_mean_squared_error: 104.7201\n",
      "Epoch 14/35\n",
      "170/170 [==============================] - 0s 1ms/step - loss: 10896.3460 - root_mean_squared_error: 104.3580\n",
      "Epoch 15/35\n",
      "170/170 [==============================] - 0s 1ms/step - loss: 10675.8825 - root_mean_squared_error: 103.3191\n",
      "Epoch 16/35\n",
      "170/170 [==============================] - 0s 2ms/step - loss: 10454.8923 - root_mean_squared_error: 102.2429\n",
      "Epoch 17/35\n",
      "170/170 [==============================] - 0s 1ms/step - loss: 10633.7093 - root_mean_squared_error: 103.1159\n",
      "Epoch 18/35\n",
      "170/170 [==============================] - 0s 1ms/step - loss: 10577.0247 - root_mean_squared_error: 102.8419\n",
      "Epoch 19/35\n",
      "170/170 [==============================] - 0s 2ms/step - loss: 10478.8993 - root_mean_squared_error: 102.3543\n",
      "Epoch 20/35\n",
      "170/170 [==============================] - 0s 1ms/step - loss: 10594.9817 - root_mean_squared_error: 102.9278\n",
      "Epoch 21/35\n",
      "170/170 [==============================] - 0s 1ms/step - loss: 10650.3214 - root_mean_squared_error: 103.1961\n",
      "Epoch 22/35\n",
      "170/170 [==============================] - 0s 1ms/step - loss: 10623.2918 - root_mean_squared_error: 103.0575\n",
      "Epoch 23/35\n",
      "170/170 [==============================] - 0s 1ms/step - loss: 10443.9517 - root_mean_squared_error: 102.1854\n",
      "Epoch 24/35\n",
      "170/170 [==============================] - 0s 1ms/step - loss: 10314.2343 - root_mean_squared_error: 101.5552\n",
      "Epoch 25/35\n",
      "170/170 [==============================] - 0s 1ms/step - loss: 10348.0475 - root_mean_squared_error: 101.7225\n",
      "Epoch 26/35\n",
      "170/170 [==============================] - 0s 1ms/step - loss: 10183.0090 - root_mean_squared_error: 100.9049\n",
      "Epoch 27/35\n",
      "170/170 [==============================] - 0s 1ms/step - loss: 10454.0507 - root_mean_squared_error: 102.2394\n",
      "Epoch 28/35\n",
      "170/170 [==============================] - 0s 1ms/step - loss: 10255.0272 - root_mean_squared_error: 101.2531\n",
      "Epoch 29/35\n",
      "170/170 [==============================] - 0s 1ms/step - loss: 10355.7453 - root_mean_squared_error: 101.7452\n",
      "Epoch 30/35\n",
      "170/170 [==============================] - 0s 1ms/step - loss: 10585.1057 - root_mean_squared_error: 102.8796\n",
      "Epoch 31/35\n",
      "170/170 [==============================] - 0s 2ms/step - loss: 10429.9680 - root_mean_squared_error: 102.1255\n",
      "Epoch 32/35\n",
      "170/170 [==============================] - 0s 3ms/step - loss: 10358.2837 - root_mean_squared_error: 101.7723\n",
      "Epoch 33/35\n",
      "170/170 [==============================] - 0s 3ms/step - loss: 10294.1062 - root_mean_squared_error: 101.4425\n",
      "Epoch 34/35\n",
      "170/170 [==============================] - 0s 3ms/step - loss: 10359.1232 - root_mean_squared_error: 101.7778\n",
      "Epoch 35/35\n",
      "170/170 [==============================] - 0s 2ms/step - loss: 10424.9198 - root_mean_squared_error: 102.0992\n"
     ]
    },
    {
     "data": {
      "image/png": "[encoded data removed]",
      "text/plain": [
       "<Figure size 1120x400 with 1 Axes>"
      ]
     },
     "metadata": {},
     "output_type": "display_data"
    },
    {
     "name": "stdout",
     "output_type": "stream",
     "text": [
      "\n",
      ": Evaluate the new model against the test set:\n",
      "WARNING:tensorflow:Layers in a Sequential model should only have a single input tensor, but we receive a <class 'dict'> input: {'longitude': <tf.Tensor 'ExpandDims_3:0' shape=(100, 1) dtype=float32>, 'latitude': <tf.Tensor 'ExpandDims_2:0' shape=(100, 1) dtype=float32>, 'housing_median_age': <tf.Tensor 'ExpandDims_1:0' shape=(100, 1) dtype=float32>, 'total_rooms': <tf.Tensor 'ExpandDims_7:0' shape=(100, 1) dtype=float32>, 'total_bedrooms': <tf.Tensor 'ExpandDims_6:0' shape=(100, 1) dtype=float32>, 'population': <tf.Tensor 'ExpandDims_5:0' shape=(100, 1) dtype=float32>, 'households': <tf.Tensor 'ExpandDims:0' shape=(100, 1) dtype=float32>, 'median_income': <tf.Tensor 'ExpandDims_4:0' shape=(100, 1) dtype=float32>}\n",
      "Consider rewriting this model with the Functional API.\n",
      "30/30 [==============================] - 0s 2ms/step - loss: 10198.6270 - root_mean_squared_error: 100.9883\n"
     ]
    },
    {
     "data": {
      "text/plain": [
       "[10198.626953125, 100.98825073242188]"
      ]
     },
     "execution_count": 8,
     "metadata": {},
     "output_type": "execute_result"
    }
   ],
   "source": [
    "# The following variables are the hyperparameters.\n",
    "learning_rate = 0.04\n",
    "epochs = 35\n",
    "\n",
    "# Build the model, this time passing in the buckets_feature_layer.\n",
    "my_model = create_model(learning_rate, buckets_feature_layer)\n",
    "\n",
    "# Train the model on the training set.\n",
    "epochs, rmse = train_model(my_model, train_df, epochs, batch_size, label_name)\n",
    "\n",
    "plot_the_loss_curve(epochs, rmse)\n",
    "\n",
    "print(\"\\n: Evaluate the new model against the test set:\")\n",
    "my_model.evaluate(x=test_features, y=test_label, batch_size=batch_size)"
   ]
  },
  {
   "cell_type": "markdown",
   "metadata": {
    "colab_type": "text",
    "id": "Wb-bIKsN5M48"
   },
   "source": [
    "## Task 2: Did buckets outperform floating-point representations?\n",
    "\n",
    "Compare the model's `root_mean_squared_error` values for the two representations (floating-point vs. buckets)?  Which model produced lower losses? "
   ]
  },
  {
   "cell_type": "code",
   "execution_count": null,
   "metadata": {
    "cellView": "form",
    "colab": {},
    "colab_type": "code",
    "id": "6sUlX1335UCb",
    "jupyter": {
     "source_hidden": true
    },
    "tags": []
   },
   "outputs": [],
   "source": [
    "#@title Double-click for an answer to Task 2.\n",
    "\n",
    "# Bucket representation outperformed \n",
    "# floating-point representations.  \n",
    "# However, you can still do far better."
   ]
  },
  {
   "cell_type": "markdown",
   "metadata": {
    "colab_type": "text",
    "id": "ab6-bhUvxbTL"
   },
   "source": [
    "## Task 3: What is a better way to represent location?\n",
    "\n",
    "Buckets are a big improvement over floating-point values. Can you identify an even better way to identify location with `latitude` and `longitude`?"
   ]
  },
  {
   "cell_type": "code",
   "execution_count": null,
   "metadata": {
    "cellView": "form",
    "colab": {},
    "colab_type": "code",
    "id": "5no5X0OFCwf7",
    "jupyter": {
     "source_hidden": true
    },
    "tags": []
   },
   "outputs": [],
   "source": [
    "#@title Double-click to view an answer to Task 3.\n",
    "\n",
    "# Representing location as a feature cross should \n",
    "# produce better results.\n",
    "\n",
    "# In Task 2, you represented latitude in \n",
    "# one-dimensional buckets and longitude in \n",
    "# another series of one-dimensional buckets. \n",
    "# Real-world locations, however, exist in \n",
    "# two dimension. Therefore, you should\n",
    "# represent location as a two-dimensional feature\n",
    "# cross. That is, you'll cross the 10 or so latitude \n",
    "# buckets with the 10 or so longitude buckets to \n",
    "# create a grid of 100 cells. \n",
    "\n",
    "# The model will learn separate weights for each \n",
    "# of the cells."
   ]
  },
  {
   "cell_type": "markdown",
   "metadata": {
    "colab_type": "text",
    "id": "T1ulCDiyGB6g"
   },
   "source": [
    "## Represent location as a feature cross\n",
    "\n",
    "The following code cell represents location as a feature cross. That is, the following code cell first creates buckets and then calls `tf.feature_column.crossed_column` to cross the buckets.\n",
    "\n"
   ]
  },
  {
   "cell_type": "code",
   "execution_count": 17,
   "metadata": {
    "cellView": "both",
    "colab": {},
    "colab_type": "code",
    "id": "HunsuEzqn21s"
   },
   "outputs": [],
   "source": [
    "resolution_in_degrees = 0.4\n",
    "\n",
    "# Create a new empty list that will eventually hold the generated feature column.\n",
    "feature_columns = []\n",
    "\n",
    "# Create a bucket feature column for latitude.\n",
    "latitude_as_a_numeric_column = tf.feature_column.numeric_column(\"latitude\")\n",
    "latitude_boundaries = list(np.arange(int(min(train_df['latitude'])), int(max(train_df['latitude'])), resolution_in_degrees))\n",
    "latitude = tf.feature_column.bucketized_column(latitude_as_a_numeric_column, latitude_boundaries)\n",
    "\n",
    "# Create a bucket feature column for longitude.\n",
    "longitude_as_a_numeric_column = tf.feature_column.numeric_column(\"longitude\")\n",
    "longitude_boundaries = list(np.arange(int(min(train_df['longitude'])), int(max(train_df['longitude'])), resolution_in_degrees))\n",
    "longitude = tf.feature_column.bucketized_column(longitude_as_a_numeric_column, longitude_boundaries)\n",
    "\n",
    "# Create a feature cross of latitude and longitude.\n",
    "latitude_x_longitude = tf.feature_column.crossed_column([latitude, longitude], hash_bucket_size=100)\n",
    "crossed_feature = tf.feature_column.indicator_column(latitude_x_longitude)\n",
    "feature_columns.append(crossed_feature)\n",
    "\n",
    "# Convert the list of feature columns into a layer that will later be fed into\n",
    "# the model. \n",
    "feature_cross_feature_layer = layers.DenseFeatures(feature_columns)"
   ]
  },
  {
   "cell_type": "markdown",
   "metadata": {
    "colab_type": "text",
    "id": "akRgNnnH3VXJ"
   },
   "source": [
    "Invoke the following code cell to test your solution for Task 2. Please ignore the warning messages."
   ]
  },
  {
   "cell_type": "code",
   "execution_count": 18,
   "metadata": {
    "colab": {},
    "colab_type": "code",
    "id": "qn2PRDBEr5ni"
   },
   "outputs": [
    {
     "name": "stdout",
     "output_type": "stream",
     "text": [
      "Epoch 1/35\n",
      "WARNING:tensorflow:Layers in a Sequential model should only have a single input tensor, but we receive a <class 'dict'> input: {'longitude': <tf.Tensor 'ExpandDims_3:0' shape=(100, 1) dtype=float32>, 'latitude': <tf.Tensor 'ExpandDims_2:0' shape=(100, 1) dtype=float32>, 'housing_median_age': <tf.Tensor 'ExpandDims_1:0' shape=(100, 1) dtype=float32>, 'total_rooms': <tf.Tensor 'ExpandDims_7:0' shape=(100, 1) dtype=float32>, 'total_bedrooms': <tf.Tensor 'ExpandDims_6:0' shape=(100, 1) dtype=float32>, 'population': <tf.Tensor 'ExpandDims_5:0' shape=(100, 1) dtype=float32>, 'households': <tf.Tensor 'ExpandDims:0' shape=(100, 1) dtype=float32>, 'median_income': <tf.Tensor 'ExpandDims_4:0' shape=(100, 1) dtype=float32>}\n",
      "Consider rewriting this model with the Functional API.\n",
      "WARNING:tensorflow:Layers in a Sequential model should only have a single input tensor, but we receive a <class 'dict'> input: {'longitude': <tf.Tensor 'ExpandDims_3:0' shape=(100, 1) dtype=float32>, 'latitude': <tf.Tensor 'ExpandDims_2:0' shape=(100, 1) dtype=float32>, 'housing_median_age': <tf.Tensor 'ExpandDims_1:0' shape=(100, 1) dtype=float32>, 'total_rooms': <tf.Tensor 'ExpandDims_7:0' shape=(100, 1) dtype=float32>, 'total_bedrooms': <tf.Tensor 'ExpandDims_6:0' shape=(100, 1) dtype=float32>, 'population': <tf.Tensor 'ExpandDims_5:0' shape=(100, 1) dtype=float32>, 'households': <tf.Tensor 'ExpandDims:0' shape=(100, 1) dtype=float32>, 'median_income': <tf.Tensor 'ExpandDims_4:0' shape=(100, 1) dtype=float32>}\n",
      "Consider rewriting this model with the Functional API.\n",
      "170/170 [==============================] - 1s 2ms/step - loss: 54619.3328 - root_mean_squared_error: 233.6996\n",
      "Epoch 2/35\n",
      "170/170 [==============================] - 0s 2ms/step - loss: 50226.7875 - root_mean_squared_error: 224.1012\n",
      "Epoch 3/35\n",
      "170/170 [==============================] - 0s 2ms/step - loss: 45037.2616 - root_mean_squared_error: 212.2039\n",
      "Epoch 4/35\n",
      "170/170 [==============================] - 0s 2ms/step - loss: 42016.5040 - root_mean_squared_error: 204.9477\n",
      "Epoch 5/35\n",
      "170/170 [==============================] - 0s 2ms/step - loss: 37625.7285 - root_mean_squared_error: 193.9441\n",
      "Epoch 6/35\n",
      "170/170 [==============================] - 0s 2ms/step - loss: 33634.8849 - root_mean_squared_error: 183.3722\n",
      "Epoch 7/35\n",
      "170/170 [==============================] - 0s 2ms/step - loss: 30226.6555 - root_mean_squared_error: 173.8476\n",
      "Epoch 8/35\n",
      "170/170 [==============================] - 0s 3ms/step - loss: 26821.2219 - root_mean_squared_error: 163.7662\n",
      "Epoch 9/35\n",
      "170/170 [==============================] - 1s 3ms/step - loss: 24001.8744 - root_mean_squared_error: 154.9179\n",
      "Epoch 10/35\n",
      "170/170 [==============================] - 1s 4ms/step - loss: 21735.1485 - root_mean_squared_error: 147.4095\n",
      "Epoch 11/35\n",
      "170/170 [==============================] - 1s 4ms/step - loss: 19754.9901 - root_mean_squared_error: 140.5310\n",
      "Epoch 12/35\n",
      "170/170 [==============================] - 1s 4ms/step - loss: 18155.7249 - root_mean_squared_error: 134.7181\n",
      "Epoch 13/35\n",
      "170/170 [==============================] - 1s 3ms/step - loss: 16080.9936 - root_mean_squared_error: 126.7975\n",
      "Epoch 14/35\n",
      "170/170 [==============================] - 1s 4ms/step - loss: 14836.0994 - root_mean_squared_error: 121.7662\n",
      "Epoch 15/35\n",
      "170/170 [==============================] - 1s 3ms/step - loss: 13467.5284 - root_mean_squared_error: 116.0459\n",
      "Epoch 16/35\n",
      "170/170 [==============================] - 1s 3ms/step - loss: 12560.5400 - root_mean_squared_error: 112.0666\n",
      "Epoch 17/35\n",
      "170/170 [==============================] - 1s 3ms/step - loss: 11591.2872 - root_mean_squared_error: 107.6579\n",
      "Epoch 18/35\n",
      "170/170 [==============================] - 1s 3ms/step - loss: 10974.3131 - root_mean_squared_error: 104.7483\n",
      "Epoch 19/35\n",
      "170/170 [==============================] - 1s 3ms/step - loss: 10384.7929 - root_mean_squared_error: 101.8976\n",
      "Epoch 20/35\n",
      "170/170 [==============================] - 1s 3ms/step - loss: 10099.9753 - root_mean_squared_error: 100.4937\n",
      "Epoch 21/35\n",
      "170/170 [==============================] - 1s 3ms/step - loss: 10086.0510 - root_mean_squared_error: 100.4264\n",
      "Epoch 22/35\n",
      "170/170 [==============================] - 1s 3ms/step - loss: 9563.2488 - root_mean_squared_error: 97.7832\n",
      "Epoch 23/35\n",
      "170/170 [==============================] - 1s 3ms/step - loss: 9769.0690 - root_mean_squared_error: 98.8362\n",
      "Epoch 24/35\n",
      "170/170 [==============================] - 1s 3ms/step - loss: 9549.9982 - root_mean_squared_error: 97.7176\n",
      "Epoch 25/35\n",
      "170/170 [==============================] - 1s 3ms/step - loss: 9178.3903 - root_mean_squared_error: 95.7912\n",
      "Epoch 26/35\n",
      "170/170 [==============================] - 1s 3ms/step - loss: 9493.9538 - root_mean_squared_error: 97.4233\n",
      "Epoch 27/35\n",
      "170/170 [==============================] - 1s 3ms/step - loss: 9254.3647 - root_mean_squared_error: 96.1959\n",
      "Epoch 28/35\n",
      "170/170 [==============================] - 1s 3ms/step - loss: 9069.2396 - root_mean_squared_error: 95.2273\n",
      "Epoch 29/35\n",
      "170/170 [==============================] - 1s 3ms/step - loss: 9031.9349 - root_mean_squared_error: 95.0347\n",
      "Epoch 30/35\n",
      "170/170 [==============================] - 1s 3ms/step - loss: 8775.9093 - root_mean_squared_error: 93.6712\n",
      "Epoch 31/35\n",
      "170/170 [==============================] - 1s 3ms/step - loss: 8892.9110 - root_mean_squared_error: 94.2939\n",
      "Epoch 32/35\n",
      "170/170 [==============================] - 1s 3ms/step - loss: 8922.0123 - root_mean_squared_error: 94.4510\n",
      "Epoch 33/35\n",
      "170/170 [==============================] - 1s 3ms/step - loss: 8809.8588 - root_mean_squared_error: 93.8578\n",
      "Epoch 34/35\n",
      "170/170 [==============================] - 1s 3ms/step - loss: 8873.4916 - root_mean_squared_error: 94.1924\n",
      "Epoch 35/35\n",
      "170/170 [==============================] - 1s 3ms/step - loss: 8679.1867 - root_mean_squared_error: 93.1578\n"
     ]
    },
    {
     "data": {
      "image/png": "[encoded data removed]",
      "text/plain": [
       "<Figure size 1120x400 with 1 Axes>"
      ]
     },
     "metadata": {},
     "output_type": "display_data"
    },
    {
     "name": "stdout",
     "output_type": "stream",
     "text": [
      "\n",
      ": Evaluate the new model against the test set:\n",
      "WARNING:tensorflow:Layers in a Sequential model should only have a single input tensor, but we receive a <class 'dict'> input: {'longitude': <tf.Tensor 'ExpandDims_3:0' shape=(100, 1) dtype=float32>, 'latitude': <tf.Tensor 'ExpandDims_2:0' shape=(100, 1) dtype=float32>, 'housing_median_age': <tf.Tensor 'ExpandDims_1:0' shape=(100, 1) dtype=float32>, 'total_rooms': <tf.Tensor 'ExpandDims_7:0' shape=(100, 1) dtype=float32>, 'total_bedrooms': <tf.Tensor 'ExpandDims_6:0' shape=(100, 1) dtype=float32>, 'population': <tf.Tensor 'ExpandDims_5:0' shape=(100, 1) dtype=float32>, 'households': <tf.Tensor 'ExpandDims:0' shape=(100, 1) dtype=float32>, 'median_income': <tf.Tensor 'ExpandDims_4:0' shape=(100, 1) dtype=float32>}\n",
      "Consider rewriting this model with the Functional API.\n",
      "30/30 [==============================] - 0s 3ms/step - loss: 8645.8350 - root_mean_squared_error: 92.9830\n"
     ]
    },
    {
     "data": {
      "text/plain": [
       "[8645.8349609375, 92.98297882080078]"
      ]
     },
     "execution_count": 18,
     "metadata": {},
     "output_type": "execute_result"
    }
   ],
   "source": [
    "# The following variables are the hyperparameters.\n",
    "learning_rate = 0.04\n",
    "epochs = 35\n",
    "\n",
    "# Build the model, this time passing in the feature_cross_feature_layer: \n",
    "my_model = create_model(learning_rate, feature_cross_feature_layer)\n",
    "\n",
    "# Train the model on the training set.\n",
    "epochs, rmse = train_model(my_model, train_df, epochs, batch_size, label_name)\n",
    "\n",
    "plot_the_loss_curve(epochs, rmse)\n",
    "\n",
    "print(\"\\n: Evaluate the new model against the test set:\")\n",
    "my_model.evaluate(x=test_features, y=test_label, batch_size=batch_size)"
   ]
  },
  {
   "cell_type": "markdown",
   "metadata": {
    "colab_type": "text",
    "id": "bCT-l1GaWNQE"
   },
   "source": [
    "## Task 4: Did the feature cross outperform buckets?\n",
    "\n",
    "Compare the model's `root_mean_squared_error` values for the two representations (buckets vs. feature cross)?  Which model produced\n",
    "lower losses? "
   ]
  },
  {
   "cell_type": "code",
   "execution_count": null,
   "metadata": {
    "cellView": "form",
    "colab": {},
    "colab_type": "code",
    "id": "HUzdWDcs5rCi",
    "jupyter": {
     "source_hidden": true
    },
    "tags": []
   },
   "outputs": [],
   "source": [
    "#@title Double-click for an answer to this question.\n",
    "\n",
    "# Yes, representing these features as a feature \n",
    "# cross produced much lower loss values than \n",
    "# representing these features as buckets"
   ]
  },
  {
   "cell_type": "markdown",
   "metadata": {
    "colab_type": "text",
    "id": "J9Iw3ljfXqSQ"
   },
   "source": [
    "## Task 5: Adjust the resolution of the feature cross\n",
    "\n",
    "Return to the code cell in the \"Represent location as a feature cross\" section. Notice that `resolution_in_degrees` is set to 1.0. Therefore, each cell represents an area of 1.0 degree of latitude by 1.0 degree of longitude, which corresponds to a cell of 110 km by 90 km.  This resolution defines a rather large neighborhood. \n",
    "\n",
    "Experiment with `resolution_in_degrees` to answer the following questions:\n",
    "\n",
    "  1. What value of `resolution_in_degrees` produces the best results (lowest loss value)?\n",
    "  2. Why does loss increase when the value of `resolution_in_degrees` drops below a certain value?\n",
    "\n",
    "Finally, answer the following question:\n",
    "\n",
    "  3. What feature (that does not exist in the California Housing Dataset) would\n",
    "     be a better proxy for location than latitude X longitude."
   ]
  },
  {
   "cell_type": "code",
   "execution_count": null,
   "metadata": {
    "cellView": "form",
    "colab": {},
    "colab_type": "code",
    "id": "71WWwlhx4h0X"
   },
   "outputs": [],
   "source": [
    "#@title Double-click for possible answers to Task 5.\n",
    "\n",
    "#1. A resolution of ~0.4 degree provides the best \n",
    "#   results.\n",
    "\n",
    "#2. Below ~0.4 degree, loss increases because the \n",
    "#   dataset does not contain enough examples in \n",
    "#   each cell to accurately predict prices for \n",
    "#   those cells.\n",
    "\n",
    "#3. Postal code would be a far better feature \n",
    "#   than latitude X longitude, assuming that \n",
    "#   the dataset contained sufficient examples \n",
    "#   in each postal code."
   ]
  }
 ],
 "metadata": {
  "colab": {
   "collapsed_sections": [],
   "name": "Representation with a Feature Cross.ipynb",
   "private_outputs": true,
   "provenance": []
  },
  "kernelspec": {
   "display_name": "Python 3",
   "language": "python",
   "name": "python3"
  },
  "language_info": {
   "codemirror_mode": {
    "name": "ipython",
    "version": 3
   },
   "file_extension": ".py",
   "mimetype": "text/x-python",
   "name": "python",
   "nbconvert_exporter": "python",
   "pygments_lexer": "ipython3",
   "version": "3.9.6"
  }
 },
 "nbformat": 4,
 "nbformat_minor": 4
}
