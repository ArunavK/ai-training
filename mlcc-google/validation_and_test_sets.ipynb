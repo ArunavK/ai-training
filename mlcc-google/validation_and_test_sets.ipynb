{
 "cells": [
  {
   "cell_type": "code",
   "execution_count": null,
   "metadata": {
    "cellView": "form",
    "colab": {},
    "colab_type": "code",
    "id": "hMqWDc_m6rUC",
    "jupyter": {
     "source_hidden": true
    },
    "tags": []
   },
   "outputs": [],
   "source": [
    "#@title Copyright 2020 Google LLC. Double-click here for license information.\n",
    "# Licensed under the Apache License, Version 2.0 (the \"License\");\n",
    "# you may not use this file except in compliance with the License.\n",
    "# You may obtain a copy of the License at\n",
    "#\n",
    "# https://www.apache.org/licenses/LICENSE-2.0\n",
    "#\n",
    "# Unless required by applicable law or agreed to in writing, software\n",
    "# distributed under the License is distributed on an \"AS IS\" BASIS,\n",
    "# WITHOUT WARRANTIES OR CONDITIONS OF ANY KIND, either express or implied.\n",
    "# See the License for the specific language governing permissions and\n",
    "# limitations under the License."
   ]
  },
  {
   "cell_type": "markdown",
   "metadata": {
    "colab_type": "text",
    "id": "4f3CKqFUqL2-"
   },
   "source": [
    "# Validation Sets and Test Sets\n",
    "\n",
    "The previous Colab exercises evaluated the trained model against the training set, which does not provide a strong signal about the quality of your model. In this Colab, you'll experiment with validation sets and test sets.\n",
    "\n",
    "\n",
    "\n",
    "\n"
   ]
  },
  {
   "cell_type": "markdown",
   "metadata": {
    "colab_type": "text",
    "id": "3spZH_kNkWWX"
   },
   "source": [
    "## Learning objectives\n",
    "\n",
    "After doing this Colab, you'll know how to do the following:\n",
    "\n",
    "  * Split a [training set](https://developers.google.com/machine-learning/glossary/#training_set) into a smaller training set and a [validation set](https://developers.google.com/machine-learning/glossary/#validation_set).\n",
    "  * Analyze deltas between training set and validation set results.\n",
    "  * Test the trained model with a [test set](https://developers.google.com/machine-learning/glossary/#test_set) to determine whether your trained model is [overfitting](https://developers.google.com/machine-learning/glossary/#overfitting).\n",
    "  * Detect and fix a common training problem."
   ]
  },
  {
   "cell_type": "markdown",
   "metadata": {
    "colab_type": "text",
    "id": "gV82DJO3kWpk"
   },
   "source": [
    "## The dataset\n",
    "\n",
    "As in the previous exercise, this exercise uses the [California Housing dataset](https://developers.google.com/machine-learning/crash-course/california-housing-data-description) to predict the `median_house_value` at the city block level.  Like many \"famous\" datasets, the California Housing Dataset actually consists of two separate datasets, each living in separate .csv files:\n",
    "\n",
    "* The training set is in `california_housing_train.csv`.\n",
    "* The test set is in `california_housing_test.csv`.\n",
    "\n",
    "You'll create the validation set by dividing the downloaded training set into two parts:\n",
    "\n",
    "* a smaller training set  \n",
    "* a validation set"
   ]
  },
  {
   "cell_type": "markdown",
   "metadata": {
    "colab_type": "text",
    "id": "S8gm6BpqRRuh"
   },
   "source": [
    "## Import relevant modules\n",
    "\n",
    "As before, this first code cell imports the necessary modules and sets a few display options."
   ]
  },
  {
   "cell_type": "code",
   "execution_count": 1,
   "metadata": {
    "cellView": "form",
    "colab": {},
    "colab_type": "code",
    "id": "9D8GgUovHbG0",
    "tags": []
   },
   "outputs": [],
   "source": [
    "#@title Import modules\n",
    "import numpy as np\n",
    "import pandas as pd\n",
    "import tensorflow as tf\n",
    "from matplotlib import pyplot as plt\n",
    "\n",
    "pd.options.display.max_rows = 10\n",
    "pd.options.display.float_format = \"{:.1f}\".format"
   ]
  },
  {
   "cell_type": "code",
   "execution_count": 2,
   "metadata": {
    "tags": []
   },
   "outputs": [],
   "source": [
    "from jupyterthemes import jtplot\n",
    "jtplot.style(theme=\"onedork\", fscale=0.8, figsize=(14,5))"
   ]
  },
  {
   "cell_type": "markdown",
   "metadata": {
    "colab_type": "text",
    "id": "xjvrrClQeAJu"
   },
   "source": [
    "## Load the datasets from the internet\n",
    "\n",
    "The following code cell loads the separate .csv files and creates the following two pandas DataFrames:\n",
    "\n",
    "* `train_df`, which contains the training set.\n",
    "* `test_df`, which contains the test set.\n",
    "\n"
   ]
  },
  {
   "cell_type": "code",
   "execution_count": 3,
   "metadata": {
    "colab": {},
    "colab_type": "code",
    "id": "zUnTc_wfd_o3"
   },
   "outputs": [],
   "source": [
    "train_df = pd.read_csv(\"https://download.mlcc.google.com/mledu-datasets/california_housing_train.csv\")\n",
    "test_df = pd.read_csv(\"https://download.mlcc.google.com/mledu-datasets/california_housing_test.csv\")"
   ]
  },
  {
   "cell_type": "markdown",
   "metadata": {
    "colab_type": "text",
    "id": "P_KBdj2M_yjM"
   },
   "source": [
    "## Scale the label values\n",
    "\n",
    "The following code cell scales the `median_house_value`. \n",
    "See the previous Colab exercise for details."
   ]
  },
  {
   "cell_type": "code",
   "execution_count": 4,
   "metadata": {
    "colab": {},
    "colab_type": "code",
    "id": "3hc7QQhaAFXD"
   },
   "outputs": [],
   "source": [
    "scale_factor = 1000.0\n",
    "\n",
    "# Scale the training set's label.\n",
    "train_df[\"median_house_value\"] /= scale_factor \n",
    "\n",
    "# Scale the test set's label\n",
    "test_df[\"median_house_value\"] /= scale_factor"
   ]
  },
  {
   "cell_type": "markdown",
   "metadata": {
    "colab_type": "text",
    "id": "FhessIIV8VPc"
   },
   "source": [
    "## Load the functions that build and train a model\n",
    "\n",
    "The following code cell defines two functions:\n",
    "\n",
    "  * `build_model`, which defines the model's topography.\n",
    "  * `train_model`, which will ultimately train the model, outputting not only the loss value for the training set but also the loss value for the validation set. \n",
    "\n",
    "Since you don't need to understand model building code right now, we've hidden this code cell. As always, you must run hidden code cells."
   ]
  },
  {
   "cell_type": "code",
   "execution_count": 5,
   "metadata": {
    "cellView": "form",
    "colab": {},
    "colab_type": "code",
    "id": "bvonhK857msj",
    "jupyter": {
     "source_hidden": true
    },
    "tags": []
   },
   "outputs": [
    {
     "name": "stdout",
     "output_type": "stream",
     "text": [
      "Defined the build_model and train_model functions.\n"
     ]
    }
   ],
   "source": [
    "#@title Define the functions that build and train a model\n",
    "def build_model(my_learning_rate):\n",
    "  \"\"\"Create and compile a simple linear regression model.\"\"\"\n",
    "  # Most simple tf.keras models are sequential.\n",
    "  model = tf.keras.models.Sequential()\n",
    "\n",
    "  # Add one linear layer to the model to yield a simple linear regressor.\n",
    "  model.add(tf.keras.layers.Dense(units=1, input_shape=(1,)))\n",
    "\n",
    "  # Compile the model topography into code that TensorFlow can efficiently\n",
    "  # execute. Configure training to minimize the model's mean squared error. \n",
    "  model.compile(optimizer=tf.keras.optimizers.RMSprop(learning_rate=my_learning_rate),\n",
    "                loss=\"mean_squared_error\",\n",
    "                metrics=[tf.keras.metrics.RootMeanSquaredError()])\n",
    "\n",
    "  return model               \n",
    "\n",
    "\n",
    "def train_model(model, df, feature, label, my_epochs, \n",
    "                my_batch_size=None, my_validation_split=0.1):\n",
    "  \"\"\"Feed a dataset into the model in order to train it.\"\"\"\n",
    "\n",
    "  history = model.fit(x=df[feature],\n",
    "                      y=df[label],\n",
    "                      batch_size=my_batch_size,\n",
    "                      epochs=my_epochs,\n",
    "                      validation_split=my_validation_split)\n",
    "\n",
    "  # Gather the model's trained weight and bias.\n",
    "  trained_weight = model.get_weights()[0]\n",
    "  trained_bias = model.get_weights()[1]\n",
    "\n",
    "  # The list of epochs is stored separately from the \n",
    "  # rest of history.\n",
    "  epochs = history.epoch\n",
    "  \n",
    "  # Isolate the root mean squared error for each epoch.\n",
    "  hist = pd.DataFrame(history.history)\n",
    "  rmse = hist[\"root_mean_squared_error\"]\n",
    "\n",
    "  return epochs, rmse, history.history   \n",
    "\n",
    "print(\"Defined the build_model and train_model functions.\")"
   ]
  },
  {
   "cell_type": "markdown",
   "metadata": {
    "colab_type": "text",
    "id": "8gRu4Ri0D8tH"
   },
   "source": [
    "## Define plotting functions\n",
    "\n",
    "The `plot_the_loss_curve` function plots loss vs. epochs for both the training set and the validation set."
   ]
  },
  {
   "cell_type": "code",
   "execution_count": 6,
   "metadata": {
    "cellView": "form",
    "colab": {},
    "colab_type": "code",
    "id": "QA7hsqPZDvVM",
    "jupyter": {
     "source_hidden": true
    },
    "tags": []
   },
   "outputs": [
    {
     "name": "stdout",
     "output_type": "stream",
     "text": [
      "Defined the plot_the_loss_curve function.\n"
     ]
    }
   ],
   "source": [
    "#@title Define the plotting function\n",
    "\n",
    "def plot_the_loss_curve(epochs, mae_training, mae_validation):\n",
    "  \"\"\"Plot a curve of loss vs. epoch.\"\"\"\n",
    "\n",
    "  plt.figure()\n",
    "  plt.xlabel(\"Epoch\")\n",
    "  plt.ylabel(\"Root Mean Squared Error\")\n",
    "\n",
    "  plt.plot(epochs[1:], mae_training[1:], label=\"Training Loss\")\n",
    "  plt.plot(epochs[1:], mae_validation[1:], label=\"Validation Loss\")\n",
    "  plt.legend()\n",
    "  \n",
    "  # We're not going to plot the first epoch, since the loss on the first epoch\n",
    "  # is often substantially greater than the loss for other epochs.\n",
    "  merged_mae_lists = mae_training[1:] + mae_validation[1:]\n",
    "  highest_loss = max(merged_mae_lists)\n",
    "  lowest_loss = min(merged_mae_lists)\n",
    "  delta = highest_loss - lowest_loss\n",
    "  print(delta)\n",
    "\n",
    "  top_of_y_axis = highest_loss + (delta * 0.05)\n",
    "  bottom_of_y_axis = lowest_loss - (delta * 0.05)\n",
    "   \n",
    "  plt.ylim([bottom_of_y_axis, top_of_y_axis])\n",
    "  plt.show()  \n",
    "\n",
    "print(\"Defined the plot_the_loss_curve function.\")"
   ]
  },
  {
   "cell_type": "markdown",
   "metadata": {
    "colab_type": "text",
    "id": "jipBqEQXlsN8"
   },
   "source": [
    "## Task 1: Experiment with the validation split\n",
    "\n",
    "In the following code cell, you'll see a variable named `validation_split`, which we've initialized at 0.2.  The `validation_split` variable specifies the proportion of the original training set that will serve as the validation set. The original training set contains 17,000 examples. Therefore, a `validation_split` of 0.2 means that:\n",
    "\n",
    "* 17,000 * 0.2 ~= 3,400 examples will become the validation set.\n",
    "* 17,000 * 0.8 ~= 13,600 examples will become the new training set.\n",
    "\n",
    "The following code builds a model, trains it on the training set, and evaluates the built model on both:\n",
    "\n",
    "* The training set.\n",
    "* And the validation set.\n",
    "\n",
    "If the data in the training set is similar to the data in the validation set, then the two loss curves and the final loss values should be almost identical. However, the loss curves and final loss values are **not** almost identical. Hmm, that's odd.  \n",
    "\n",
    "Experiment with two or three different values of `validation_split`.  Do different values of `validation_split` fix the problem? \n"
   ]
  },
  {
   "cell_type": "code",
   "execution_count": 7,
   "metadata": {
    "colab": {},
    "colab_type": "code",
    "id": "knP23Taoa00a",
    "tags": []
   },
   "outputs": [
    {
     "name": "stdout",
     "output_type": "stream",
     "text": [
      "Epoch 1/30\n",
      "136/136 [==============================] - 0s 2ms/step - loss: 45047.7734 - root_mean_squared_error: 212.2446 - val_loss: 33199.3047 - val_root_mean_squared_error: 182.2068\n",
      "Epoch 2/30\n",
      "136/136 [==============================] - 0s 972us/step - loss: 26480.9414 - root_mean_squared_error: 162.7297 - val_loss: 18443.1484 - val_root_mean_squared_error: 135.8056\n",
      "Epoch 3/30\n",
      "136/136 [==============================] - 0s 865us/step - loss: 14327.3281 - root_mean_squared_error: 119.6968 - val_loss: 9784.4531 - val_root_mean_squared_error: 98.9164\n",
      "Epoch 4/30\n",
      "136/136 [==============================] - 0s 865us/step - loss: 8250.7529 - root_mean_squared_error: 90.8336 - val_loss: 6923.7881 - val_root_mean_squared_error: 83.2093\n",
      "Epoch 5/30\n",
      "136/136 [==============================] - 0s 974us/step - loss: 7056.7236 - root_mean_squared_error: 84.0043 - val_loss: 6880.7031 - val_root_mean_squared_error: 82.9500\n",
      "Epoch 6/30\n",
      "136/136 [==============================] - 0s 855us/step - loss: 7047.1885 - root_mean_squared_error: 83.9475 - val_loss: 6880.7109 - val_root_mean_squared_error: 82.9501\n",
      "Epoch 7/30\n",
      "136/136 [==============================] - 0s 842us/step - loss: 7048.0078 - root_mean_squared_error: 83.9524 - val_loss: 6885.1426 - val_root_mean_squared_error: 82.9768\n",
      "Epoch 8/30\n",
      "136/136 [==============================] - 0s 944us/step - loss: 7046.9053 - root_mean_squared_error: 83.9458 - val_loss: 6882.9932 - val_root_mean_squared_error: 82.9638\n",
      "Epoch 9/30\n",
      "136/136 [==============================] - 0s 962us/step - loss: 7047.7310 - root_mean_squared_error: 83.9508 - val_loss: 6883.4717 - val_root_mean_squared_error: 82.9667\n",
      "Epoch 10/30\n",
      "136/136 [==============================] - 0s 900us/step - loss: 7047.7725 - root_mean_squared_error: 83.9510 - val_loss: 6887.6963 - val_root_mean_squared_error: 82.9921\n",
      "Epoch 11/30\n",
      "136/136 [==============================] - 0s 819us/step - loss: 7047.1245 - root_mean_squared_error: 83.9472 - val_loss: 6882.0581 - val_root_mean_squared_error: 82.9582\n",
      "Epoch 12/30\n",
      "136/136 [==============================] - 0s 944us/step - loss: 7047.2158 - root_mean_squared_error: 83.9477 - val_loss: 6893.2510 - val_root_mean_squared_error: 83.0256\n",
      "Epoch 13/30\n",
      "136/136 [==============================] - 0s 922us/step - loss: 7047.2549 - root_mean_squared_error: 83.9479 - val_loss: 6883.5708 - val_root_mean_squared_error: 82.9673\n",
      "Epoch 14/30\n",
      "136/136 [==============================] - 0s 926us/step - loss: 7047.6587 - root_mean_squared_error: 83.9503 - val_loss: 6888.2446 - val_root_mean_squared_error: 82.9955\n",
      "Epoch 15/30\n",
      "136/136 [==============================] - 0s 846us/step - loss: 7047.3955 - root_mean_squared_error: 83.9488 - val_loss: 6886.5034 - val_root_mean_squared_error: 82.9850\n",
      "Epoch 16/30\n",
      "136/136 [==============================] - 0s 973us/step - loss: 7047.2051 - root_mean_squared_error: 83.9476 - val_loss: 6884.8276 - val_root_mean_squared_error: 82.9749\n",
      "Epoch 17/30\n",
      "136/136 [==============================] - 0s 953us/step - loss: 7045.8076 - root_mean_squared_error: 83.9393 - val_loss: 6880.9663 - val_root_mean_squared_error: 82.9516\n",
      "Epoch 18/30\n",
      "136/136 [==============================] - 0s 895us/step - loss: 7046.4561 - root_mean_squared_error: 83.9432 - val_loss: 6894.4482 - val_root_mean_squared_error: 83.0328\n",
      "Epoch 19/30\n",
      "136/136 [==============================] - 0s 848us/step - loss: 7047.7417 - root_mean_squared_error: 83.9508 - val_loss: 6883.6948 - val_root_mean_squared_error: 82.9680\n",
      "Epoch 20/30\n",
      "136/136 [==============================] - 0s 1ms/step - loss: 7046.9902 - root_mean_squared_error: 83.9464 - val_loss: 6889.3496 - val_root_mean_squared_error: 83.0021\n",
      "Epoch 21/30\n",
      "136/136 [==============================] - 0s 927us/step - loss: 7048.2207 - root_mean_squared_error: 83.9537 - val_loss: 6884.8164 - val_root_mean_squared_error: 82.9748\n",
      "Epoch 22/30\n",
      "136/136 [==============================] - 0s 823us/step - loss: 7046.5479 - root_mean_squared_error: 83.9437 - val_loss: 6886.4478 - val_root_mean_squared_error: 82.9846\n",
      "Epoch 23/30\n",
      "136/136 [==============================] - 0s 865us/step - loss: 7047.4092 - root_mean_squared_error: 83.9488 - val_loss: 6882.1382 - val_root_mean_squared_error: 82.9587\n",
      "Epoch 24/30\n",
      "136/136 [==============================] - 0s 822us/step - loss: 7046.9272 - root_mean_squared_error: 83.9460 - val_loss: 6881.4014 - val_root_mean_squared_error: 82.9542\n",
      "Epoch 25/30\n",
      "136/136 [==============================] - 0s 938us/step - loss: 7047.5469 - root_mean_squared_error: 83.9497 - val_loss: 6885.6406 - val_root_mean_squared_error: 82.9798\n",
      "Epoch 26/30\n",
      "136/136 [==============================] - 0s 965us/step - loss: 7045.7695 - root_mean_squared_error: 83.9391 - val_loss: 6881.1455 - val_root_mean_squared_error: 82.9527\n",
      "Epoch 27/30\n",
      "136/136 [==============================] - 0s 958us/step - loss: 7047.4854 - root_mean_squared_error: 83.9493 - val_loss: 6888.6182 - val_root_mean_squared_error: 82.9977\n",
      "Epoch 28/30\n",
      "136/136 [==============================] - 0s 796us/step - loss: 7047.1177 - root_mean_squared_error: 83.9471 - val_loss: 6883.1143 - val_root_mean_squared_error: 82.9645\n",
      "Epoch 29/30\n",
      "136/136 [==============================] - 0s 1ms/step - loss: 7047.7471 - root_mean_squared_error: 83.9509 - val_loss: 6884.1226 - val_root_mean_squared_error: 82.9706\n",
      "Epoch 30/30\n",
      "136/136 [==============================] - 0s 926us/step - loss: 7046.6055 - root_mean_squared_error: 83.9441 - val_loss: 6886.6431 - val_root_mean_squared_error: 82.9858\n",
      "79.77965545654297\n"
     ]
    },
    {
     "data": {
      "image/png": "[encoded data removed]",
      "text/plain": [
       "<Figure size 806.4x288 with 1 Axes>"
      ]
     },
     "metadata": {},
     "output_type": "display_data"
    }
   ],
   "source": [
    "# The following variables are the hyperparameters.\n",
    "learning_rate = 0.08\n",
    "epochs = 30\n",
    "batch_size = 100\n",
    "\n",
    "# Split the original training set into a reduced training set and a\n",
    "# validation set. \n",
    "validation_split=0.2\n",
    "\n",
    "# Identify the feature and the label.\n",
    "my_feature=\"median_income\"  # the median income on a specific city block.\n",
    "my_label=\"median_house_value\" # the median value of a house on a specific city block.\n",
    "# That is, you're going to create a model that predicts house value based \n",
    "# solely on the neighborhood's median income.\n",
    "\n",
    "# Shuffle the training data\n",
    "shuffled_train_df = train_df.reindex(np.random.permutation(train_df.index))\n",
    "\n",
    "# Discard any pre-existing version of the model.\n",
    "my_model = None\n",
    "\n",
    "# Invoke the functions to build and train the model.\n",
    "my_model = build_model(learning_rate)\n",
    "epochs, rmse, history = train_model(my_model, shuffled_train_df, my_feature, \n",
    "                                    my_label, epochs, batch_size, \n",
    "                                    validation_split)\n",
    "\n",
    "plot_the_loss_curve(epochs, history[\"root_mean_squared_error\"], \n",
    "                    history[\"val_root_mean_squared_error\"])"
   ]
  },
  {
   "cell_type": "markdown",
   "metadata": {
    "colab_type": "text",
    "id": "TKa11JK4Pm3f"
   },
   "source": [
    "## Task 2: Determine **why** the loss curves differ\n",
    "\n",
    "No matter how you split the training set and the validation set, the loss curves differ significantly. Evidently, the data in the training set isn't similar enough to the data in the validation set. Counterintuitive? Yes, but this problem is actually pretty common in machine learning. \n",
    "\n",
    "Your task is to determine **why** the loss curves aren't highly similar. As with most issues in machine learning, the problem is rooted in the data itself. To solve this mystery of why the training set and validation set aren't almost identical, write a line or two of [pandas code](https://colab.research.google.com/drive/1gUeYFsYmoyqpQJWq7krrZZNUFvBPwrJf) in the following code cell.  Here are a couple of hints:\n",
    "\n",
    "  * The previous code cell split the original training set into:\n",
    "    * a reduced training set (the original training set - the validation set)\n",
    "    * the validation set \n",
    "  * By default, the pandas [`head`](https://pandas.pydata.org/pandas-docs/stable/reference/api/pandas.DataFrame.head.html) method outputs the *first* 5 rows of the DataFrame. To see more of the training set, specify the `n` argument to `head` and assign a large positive integer to `n`."
   ]
  },
  {
   "cell_type": "code",
   "execution_count": 8,
   "metadata": {
    "colab": {},
    "colab_type": "code",
    "id": "VJQcAZkwJt_p"
   },
   "outputs": [
    {
     "data": {
      "text/html": [
       "<div>\n",
       "<style scoped>\n",
       "    .dataframe tbody tr th:only-of-type {\n",
       "        vertical-align: middle;\n",
       "    }\n",
       "\n",
       "    .dataframe tbody tr th {\n",
       "        vertical-align: top;\n",
       "    }\n",
       "\n",
       "    .dataframe thead th {\n",
       "        text-align: right;\n",
       "    }\n",
       "</style>\n",
       "<table border=\"1\" class=\"dataframe\">\n",
       "  <thead>\n",
       "    <tr style=\"text-align: right;\">\n",
       "      <th></th>\n",
       "      <th>longitude</th>\n",
       "      <th>latitude</th>\n",
       "      <th>housing_median_age</th>\n",
       "      <th>total_rooms</th>\n",
       "      <th>total_bedrooms</th>\n",
       "      <th>population</th>\n",
       "      <th>households</th>\n",
       "      <th>median_income</th>\n",
       "      <th>median_house_value</th>\n",
       "    </tr>\n",
       "  </thead>\n",
       "  <tbody>\n",
       "    <tr>\n",
       "      <th>25</th>\n",
       "      <td>-115.3</td>\n",
       "      <td>32.8</td>\n",
       "      <td>34.0</td>\n",
       "      <td>591.0</td>\n",
       "      <td>139.0</td>\n",
       "      <td>327.0</td>\n",
       "      <td>89.0</td>\n",
       "      <td>3.7</td>\n",
       "      <td>100.0</td>\n",
       "    </tr>\n",
       "    <tr>\n",
       "      <th>26</th>\n",
       "      <td>-115.4</td>\n",
       "      <td>32.8</td>\n",
       "      <td>30.0</td>\n",
       "      <td>1602.0</td>\n",
       "      <td>322.0</td>\n",
       "      <td>1130.0</td>\n",
       "      <td>335.0</td>\n",
       "      <td>3.6</td>\n",
       "      <td>71.1</td>\n",
       "    </tr>\n",
       "    <tr>\n",
       "      <th>27</th>\n",
       "      <td>-115.4</td>\n",
       "      <td>32.8</td>\n",
       "      <td>14.0</td>\n",
       "      <td>1276.0</td>\n",
       "      <td>270.0</td>\n",
       "      <td>867.0</td>\n",
       "      <td>261.0</td>\n",
       "      <td>1.9</td>\n",
       "      <td>80.9</td>\n",
       "    </tr>\n",
       "    <tr>\n",
       "      <th>28</th>\n",
       "      <td>-115.4</td>\n",
       "      <td>32.8</td>\n",
       "      <td>32.0</td>\n",
       "      <td>741.0</td>\n",
       "      <td>191.0</td>\n",
       "      <td>623.0</td>\n",
       "      <td>169.0</td>\n",
       "      <td>1.8</td>\n",
       "      <td>68.6</td>\n",
       "    </tr>\n",
       "    <tr>\n",
       "      <th>29</th>\n",
       "      <td>-115.4</td>\n",
       "      <td>32.8</td>\n",
       "      <td>23.0</td>\n",
       "      <td>1458.0</td>\n",
       "      <td>294.0</td>\n",
       "      <td>866.0</td>\n",
       "      <td>275.0</td>\n",
       "      <td>2.4</td>\n",
       "      <td>74.3</td>\n",
       "    </tr>\n",
       "    <tr>\n",
       "      <th>30</th>\n",
       "      <td>-115.4</td>\n",
       "      <td>32.8</td>\n",
       "      <td>38.0</td>\n",
       "      <td>1892.0</td>\n",
       "      <td>394.0</td>\n",
       "      <td>1175.0</td>\n",
       "      <td>374.0</td>\n",
       "      <td>2.0</td>\n",
       "      <td>65.8</td>\n",
       "    </tr>\n",
       "    <tr>\n",
       "      <th>31</th>\n",
       "      <td>-115.4</td>\n",
       "      <td>32.8</td>\n",
       "      <td>35.0</td>\n",
       "      <td>1263.0</td>\n",
       "      <td>262.0</td>\n",
       "      <td>950.0</td>\n",
       "      <td>241.0</td>\n",
       "      <td>1.9</td>\n",
       "      <td>67.5</td>\n",
       "    </tr>\n",
       "    <tr>\n",
       "      <th>32</th>\n",
       "      <td>-115.4</td>\n",
       "      <td>32.8</td>\n",
       "      <td>16.0</td>\n",
       "      <td>1136.0</td>\n",
       "      <td>196.0</td>\n",
       "      <td>481.0</td>\n",
       "      <td>185.0</td>\n",
       "      <td>6.3</td>\n",
       "      <td>146.3</td>\n",
       "    </tr>\n",
       "    <tr>\n",
       "      <th>33</th>\n",
       "      <td>-115.4</td>\n",
       "      <td>32.9</td>\n",
       "      <td>19.0</td>\n",
       "      <td>1087.0</td>\n",
       "      <td>171.0</td>\n",
       "      <td>649.0</td>\n",
       "      <td>173.0</td>\n",
       "      <td>3.3</td>\n",
       "      <td>113.8</td>\n",
       "    </tr>\n",
       "    <tr>\n",
       "      <th>34</th>\n",
       "      <td>-115.4</td>\n",
       "      <td>32.7</td>\n",
       "      <td>19.0</td>\n",
       "      <td>583.0</td>\n",
       "      <td>113.0</td>\n",
       "      <td>531.0</td>\n",
       "      <td>134.0</td>\n",
       "      <td>1.7</td>\n",
       "      <td>95.8</td>\n",
       "    </tr>\n",
       "  </tbody>\n",
       "</table>\n",
       "</div>"
      ],
      "text/plain": [
       "    longitude  latitude  housing_median_age  total_rooms  total_bedrooms  \\\n",
       "25     -115.3      32.8                34.0        591.0           139.0   \n",
       "26     -115.4      32.8                30.0       1602.0           322.0   \n",
       "27     -115.4      32.8                14.0       1276.0           270.0   \n",
       "28     -115.4      32.8                32.0        741.0           191.0   \n",
       "29     -115.4      32.8                23.0       1458.0           294.0   \n",
       "30     -115.4      32.8                38.0       1892.0           394.0   \n",
       "31     -115.4      32.8                35.0       1263.0           262.0   \n",
       "32     -115.4      32.8                16.0       1136.0           196.0   \n",
       "33     -115.4      32.9                19.0       1087.0           171.0   \n",
       "34     -115.4      32.7                19.0        583.0           113.0   \n",
       "\n",
       "    population  households  median_income  median_house_value  \n",
       "25       327.0        89.0            3.7               100.0  \n",
       "26      1130.0       335.0            3.6                71.1  \n",
       "27       867.0       261.0            1.9                80.9  \n",
       "28       623.0       169.0            1.8                68.6  \n",
       "29       866.0       275.0            2.4                74.3  \n",
       "30      1175.0       374.0            2.0                65.8  \n",
       "31       950.0       241.0            1.9                67.5  \n",
       "32       481.0       185.0            6.3               146.3  \n",
       "33       649.0       173.0            3.3               113.8  \n",
       "34       531.0       134.0            1.7                95.8  "
      ]
     },
     "execution_count": 8,
     "metadata": {},
     "output_type": "execute_result"
    }
   ],
   "source": [
    "# Write some Pandas code in this code cell.\n",
    "train_df[25:35]"
   ]
  },
  {
   "cell_type": "code",
   "execution_count": null,
   "metadata": {
    "cellView": "form",
    "colab": {},
    "colab_type": "code",
    "id": "EnNvkFwwK8WY",
    "jupyter": {
     "source_hidden": true
    },
    "tags": [
     "hide-input"
    ]
   },
   "outputs": [],
   "source": [
    "# Double-click for a possible solution to Task 2.\n",
    "\n",
    "# Examine examples 0 through 4 and examples 25 through 29\n",
    "# of the training set\n",
    "train_df.head(n=1000)\n",
    "\n",
    "# The original training set is sorted by longitude. \n",
    "# Apparently, longitude influences the relationship of\n",
    "# total_rooms to median_house_value."
   ]
  },
  {
   "cell_type": "markdown",
   "metadata": {
    "colab_type": "text",
    "id": "rw4xI1ZEckI8"
   },
   "source": [
    "## Task 3. Fix the problem\n",
    "\n",
    "To fix the problem, shuffle the examples in the training set before splitting the examples into a training set and validation set. To do so, take the following steps:\n",
    "\n",
    "1. Shuffle the data in the training set by adding the following line anywhere before you call `train_model` (in the code cell associated with Task 1):\n",
    "\n",
    "```\n",
    "  shuffled_train_df = train_df.reindex(np.random.permutation(train_df.index))\n",
    "```                                    \n",
    "\n",
    "2. Pass `shuffled_train_df` (instead of `train_df`) as the second argument to `train_model` (in the code call associated with Task 1) so that the call becomes as follows:\n",
    "\n",
    "```\n",
    "  epochs, rmse, history = train_model(my_model, shuffled_train_df, my_feature, \n",
    "                                      my_label, epochs, batch_size, \n",
    "                                      validation_split)\n",
    "```"
   ]
  },
  {
   "cell_type": "code",
   "execution_count": null,
   "metadata": {
    "cellView": "form",
    "colab": {},
    "colab_type": "code",
    "id": "ncODhpv0h-LG",
    "jupyter": {
     "source_hidden": true
    },
    "tags": []
   },
   "outputs": [],
   "source": [
    "#@title Double-click to view the complete implementation.\n",
    "\n",
    "# The following variables are the hyperparameters.\n",
    "learning_rate = 0.08\n",
    "epochs = 70\n",
    "batch_size = 100\n",
    "\n",
    "# Split the original training set into a reduced training set and a\n",
    "# validation set. \n",
    "validation_split=0.2\n",
    "\n",
    "# Identify the feature and the label.\n",
    "my_feature=\"median_income\"  # the median income on a specific city block.\n",
    "my_label=\"median_house_value\" # the median value of a house on a specific city block.\n",
    "# That is, you're going to create a model that predicts house value based \n",
    "# solely on the neighborhood's median income.  \n",
    "\n",
    "# Discard any pre-existing version of the model.\n",
    "my_model = None\n",
    "\n",
    "# Shuffle the examples.\n",
    "shuffled_train_df = train_df.reindex(np.random.permutation(train_df.index)) \n",
    "\n",
    "# Invoke the functions to build and train the model. Train on the shuffled\n",
    "# training set.\n",
    "my_model = build_model(learning_rate)\n",
    "epochs, rmse, history = train_model(my_model, shuffled_train_df, my_feature, \n",
    "                                    my_label, epochs, batch_size, \n",
    "                                    validation_split)\n",
    "\n",
    "plot_the_loss_curve(epochs, history[\"root_mean_squared_error\"], \n",
    "                    history[\"val_root_mean_squared_error\"])"
   ]
  },
  {
   "cell_type": "markdown",
   "metadata": {
    "colab_type": "text",
    "id": "tKN239_miW8C"
   },
   "source": [
    "Experiment with `validation_split` to answer the following questions:\n",
    "\n",
    "* With the training set shuffled, is the final loss for the training set closer to the final loss for the validation set?  \n",
    "* At what range of values of `validation_split` do the final loss values for the training set and validation set diverge meaningfully?  Why?"
   ]
  },
  {
   "cell_type": "code",
   "execution_count": null,
   "metadata": {
    "cellView": "form",
    "colab": {},
    "colab_type": "code",
    "id": "-UAJ3Q86iz31",
    "jupyter": {
     "source_hidden": true
    },
    "tags": []
   },
   "outputs": [],
   "source": [
    "#@title Double-click for the answers to the questions\n",
    "\n",
    "# Yes, after shuffling the original training set, \n",
    "# the final loss for the training set and the \n",
    "# validation set become much closer.\n",
    "\n",
    "# If validation_split < 0.15,\n",
    "# the final loss values for the training set and\n",
    "# validation set diverge meaningfully.  Apparently,\n",
    "# the validation set no longer contains enough examples. "
   ]
  },
  {
   "cell_type": "markdown",
   "metadata": {
    "colab_type": "text",
    "id": "1PP-O8TOZOeo"
   },
   "source": [
    "## Task 4: Use the Test Dataset to Evaluate Your Model's Performance\n",
    "\n",
    "The test set usually acts as the ultimate judge of a model's quality. The test set can serve as an impartial judge because its examples haven't been used in training the model. Run the following code cell to evaluate the model with the test set:"
   ]
  },
  {
   "cell_type": "code",
   "execution_count": 9,
   "metadata": {
    "colab": {},
    "colab_type": "code",
    "id": "nd_Sw2cygOip"
   },
   "outputs": [
    {
     "name": "stdout",
     "output_type": "stream",
     "text": [
      "30/30 [==============================] - 0s 839us/step - loss: 7009.2573 - root_mean_squared_error: 83.7213\n"
     ]
    }
   ],
   "source": [
    "x_test = test_df[my_feature]\n",
    "y_test = test_df[my_label]\n",
    "\n",
    "results = my_model.evaluate(x_test, y_test, batch_size=batch_size)"
   ]
  },
  {
   "cell_type": "markdown",
   "metadata": {
    "colab_type": "text",
    "id": "qoyQKvsjmV_A"
   },
   "source": [
    "Compare the root mean squared error of the model when evaluated on each of the three datasets:\n",
    "\n",
    "* training set: look for `root_mean_squared_error` in the final training epoch.\n",
    "* validation set: look for `val_root_mean_squared_error` in the final training epoch.\n",
    "* test set: run the preceding code cell and examine the `root_mean_squred_error`.\n",
    "\n",
    "Ideally, the root mean squared error of all three sets should be similar. Are they?"
   ]
  },
  {
   "cell_type": "code",
   "execution_count": 10,
   "metadata": {
    "cellView": "form",
    "colab": {},
    "colab_type": "code",
    "id": "FxXtp-aVdIgJ"
   },
   "outputs": [],
   "source": [
    "#@title Double-click for an answer\n",
    "\n",
    "# In our experiments, yes, the rmse values \n",
    "# were similar enough. "
   ]
  }
 ],
 "metadata": {
  "colab": {
   "collapsed_sections": [],
   "name": "Validation and Test Sets.ipynb",
   "private_outputs": true,
   "provenance": []
  },
  "kernelspec": {
   "display_name": "Python 3",
   "language": "python",
   "name": "python3"
  },
  "language_info": {
   "codemirror_mode": {
    "name": "ipython",
    "version": 3
   },
   "file_extension": ".py",
   "mimetype": "text/x-python",
   "name": "python",
   "nbconvert_exporter": "python",
   "pygments_lexer": "ipython3",
   "version": "3.6.13"
  }
 },
 "nbformat": 4,
 "nbformat_minor": 4
}
